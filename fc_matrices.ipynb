{
 "metadata": {
  "language_info": {
   "codemirror_mode": {
    "name": "ipython",
    "version": 3
   },
   "file_extension": ".py",
   "mimetype": "text/x-python",
   "name": "python",
   "nbconvert_exporter": "python",
   "pygments_lexer": "ipython3",
   "version": "3.6.9-final"
  },
  "orig_nbformat": 2,
  "kernelspec": {
   "name": "python3",
   "display_name": "Python 3.6.9 64-bit",
   "metadata": {
    "interpreter": {
     "hash": "31f2aee4e71d21fbe5cf8b01ff0e069b9275f58929596ceb00d14d90e3e16cd6"
    }
   }
  }
 },
 "nbformat": 4,
 "nbformat_minor": 2,
 "cells": [
  {
   "source": [
    "# Get ROI Time Series"
   ],
   "cell_type": "markdown",
   "metadata": {}
  },
  {
   "cell_type": "code",
   "execution_count": null,
   "metadata": {},
   "outputs": [],
   "source": [
    "def roi_maskdims(img_shape, nROIs):\n",
    "    if isinstance(img_shape, tuple):\n",
    "        img_shape = list(img_shape)\n",
    "\n",
    "    mask_shape = list(img_shape)\n",
    "    mask_shape.append(nROIs)\n",
    "\n",
    "    del(img_shape, nROIs)\n",
    "    return(mask_shape)"
   ]
  },
  {
   "cell_type": "code",
   "execution_count": null,
   "metadata": {},
   "outputs": [],
   "source": [
    "def maskROIs_as_time(mat):\n",
    "    import numpy as np\n",
    "    import nibabel as nib\n",
    "\n",
    "    if isinstance(mat, str):\n",
    "        mat = nib.load(mat)\n",
    "        mat = img.get_fdata()\n",
    "\n",
    "    roi_ls = np.unique(mat)\n",
    "    roi_ls = roi_ls[roi_ls != 0]\n",
    "\n",
    "    mat_dim = list(mat.shape)\n",
    "    mat_dim.append(1)\n",
    "    mat = np.reshape(mat, mat_dim)\n",
    "\n",
    "    roi_mat = np.tile(mat, (1,1,1,len(roi_ls)))\n",
    "\n",
    "    for ind,val in zip(range(len(roi_ls)), roi_ls):\n",
    "        roi_mat[:,:,:,ind] = roi_mat[:,:,:,ind] - (val-1)\n",
    "    \n",
    "    roi_mat[roi_mat != 1] = 0\n",
    "\n",
    "    del(mat, roi_ls, ind, val)\n",
    "    return(roi_mat)\n"
   ]
  },
  {
   "cell_type": "code",
   "execution_count": null,
   "metadata": {},
   "outputs": [],
   "source": [
    "def mult_NiiByMask(img, mask):\n",
    "    # for each point along the fourth dimension of mat4d, element-wise multiply mat4d and mat3d\n",
    "    import numpy as np\n",
    "\n",
    "    if len(img.shape) != 4:\n",
    "        raise Exception(\"img must be a 4-dimensional array\")\n",
    "    if len(mask.shape) != 3:\n",
    "        raise Exception(\"mask must be a 3-dimensional array\")\n",
    "\n",
    "    mask_4d_dim = list(mask.shape)\n",
    "    mask_4d_dim.append(1)\n",
    "    \n",
    "    mask = np.reshape(mask, mask_4d_dim)\n",
    "    mask = np.tile(mask, (1,1,1,img.shape[3]))\n",
    "    \n",
    "    prod_mat = np.zeros(img.shape)\n",
    "    prod_mat[np.nonzero(mask)] = img[np.nonzero(mask)]\n",
    "    \n",
    "    del(img, mask)\n",
    "    return(prod_mat) # output is x,y,z,time\n"
   ]
  },
  {
   "cell_type": "code",
   "execution_count": null,
   "metadata": {},
   "outputs": [],
   "source": [
    "def roi_tcourse(img, mask):\n",
    "    # compute the mean time course for each ROI \n",
    "    import numpy as np\n",
    "\n",
    "    if img.shape[0:3] != mask.shape:\n",
    "        raise Exception(\"img and mask are not in the same 3d space.\")\n",
    "\n",
    "    mean_tcourse = img / np.sum(mask)\n",
    "    mean_tcourse = np.sum(mean_tcourse, (0,1,2))\n",
    "\n",
    "    del(img, mask)\n",
    "    return(mean_tcourse)"
   ]
  },
  {
   "cell_type": "code",
   "execution_count": null,
   "metadata": {},
   "outputs": [],
   "source": [
    "def atlas_tcourse(nifti_path, mask_path, file_out=None):\n",
    "    import numpy as np\n",
    "    import nibabel as nib\n",
    "\n",
    "    print(\"+ IMPORTING DATA\")\n",
    "    img = nib.load(nifti_path)\n",
    "    img = img.get_fdata()\n",
    "    \n",
    "    mask = nib.load(mask_path)\n",
    "    mask = mask.get_fdata()\n",
    "\n",
    "    print(\"+ SPLITTING ROIs\")\n",
    "    mask = maskROIs_as_time(mask) # mask becomes 4d\n",
    "\n",
    "    if len(img.shape) != 4:\n",
    "        raise Exception(\"The provided nifti file must be 4D.\")\n",
    "    if img.shape[0:3] != mask.shape[0:3]:\n",
    "        raise Exception(\"The provided nifti file and mask must be in the same 3D space.\")\n",
    "    \n",
    "    print(\"+ COMPUTING MEAN TIME COURSE\")\n",
    "    mean_tcourse = np.zeros([img.shape[3], mask.shape[3]])\n",
    "    \n",
    "    for roi in range(mask.shape[3]):\n",
    "        prod_mat = mult_NiiByMask(img, mask[:,:,:,roi]) # output is x,y,z,time\n",
    "        mean_tcourse[:,roi] = roi_tcourse(prod_mat, mask[:,:,:,roi])\n",
    "        \n",
    "        del(prod_mat)\n",
    "\n",
    "    print(\"+ SAVING\")\n",
    "    if isinstance(file_out,str):\n",
    "        hdr = \",\".join([\"roi_\"+str(roi+1) for roi in range(mask.shape[3])])\n",
    "        np.savetxt(file_out, mean_tcourse, header=hdr, comments='', delimiter=',')\n",
    "\n",
    "    return(mean_tcourse)"
   ]
  },
  {
   "source": [
    "# Sliding Time Window"
   ],
   "cell_type": "markdown",
   "metadata": {}
  },
  {
   "cell_type": "code",
   "execution_count": null,
   "metadata": {},
   "outputs": [],
   "source": [
    "def n_twin(n_tpts, win_sz, step_sz, fill_tline=False):\n",
    "    from math import floor\n",
    "    \n",
    "    num_twin = (n_tpts - win_sz) / step_sz\n",
    "    \n",
    "    if fill_tline:\n",
    "        ovr_spill = num_twin.is_integer()\n",
    "    else:\n",
    "        ovr_spill = False\n",
    "\n",
    "    return(floor(num_twin), ovr_spill) # returns the number of whole time windows and if there is spill-over\n"
   ]
  },
  {
   "cell_type": "code",
   "execution_count": 47,
   "metadata": {},
   "outputs": [],
   "source": [
    "def sliding_twin(ttab, win_sz, step_sz, save_path=None, fill_tline=False):\n",
    "    import numpy as np\n",
    "\n",
    "    if len(ttab.shape) != 2:\n",
    "        raise Exception(\"The table must be a 2-D array\")\n",
    "\n",
    "    num_twin, ovr_spill = n_twin(ttab.shape[0], win_sz, step_sz, fill_tline)\n",
    "\n",
    "    fc_mats = np.zeros([ttab.shape[1], ttab.shape[1], num_twin+ovr_spill])\n",
    "\n",
    "    win_pos = 0\n",
    "    for win in range(num_twin):\n",
    "        ttab_win = ttab[range(win_pos, win_pos+step_sz),:]\n",
    "        fc_mats[:,:,win] = np.corrcoef(np.transpose(ttab_win))\n",
    "        win_pos += step_sz\n",
    "\n",
    "    if ovr_spill:\n",
    "        ttab_win = ttab[win_pos:-1,:]\n",
    "        fc_mats[:,:,num_twin+ovr_spill] = np.corrcoef(np.transpose(ttab_win))\n",
    "\n",
    "    if save_path is not None:\n",
    "        import scipy.io as sio\n",
    "\n",
    "        sio.savemat(save_path, {\"fc_mats\":fc_mats})\n",
    "\n",
    "    return(fc_mats)"
   ]
  },
  {
   "source": [
    "# Find Maximal Variance"
   ],
   "cell_type": "markdown",
   "metadata": {}
  },
  {
   "cell_type": "code",
   "execution_count": null,
   "metadata": {},
   "outputs": [],
   "source": []
  },
  {
   "source": [
    "# K-Means Clustering"
   ],
   "cell_type": "markdown",
   "metadata": {}
  },
  {
   "cell_type": "code",
   "execution_count": 52,
   "metadata": {},
   "outputs": [],
   "source": [
    "def mat3Dto2D(mat_3d, order=\"C\"):\n",
    "    import numpy as np\n",
    "\n",
    "    if len(mat_3d.shape) != 3:\n",
    "        raise Exception(\"mat_3d must be a 3D array\")\n",
    "    \n",
    "    new_shape = [mat_3d.shape[0]*mat_3d.shape[1], mat_3d.shape[2]]\n",
    "    mat_2d    = np.reshape(mat_3d, new_shape, order)\n",
    "    \n",
    "    return(mat_2d)\n"
   ]
  },
  {
   "cell_type": "code",
   "execution_count": 69,
   "metadata": {},
   "outputs": [],
   "source": [
    "def mat2Dto3D(mat_2d, order=\"C\"):\n",
    "    import numpy as np\n",
    "    from math import sqrt\n",
    "\n",
    "    if len(mat_2d.shape) != 2:\n",
    "        raise Exception(\"mat_2d must be a 2D array\")\n",
    "\n",
    "    new_shape = [int(sqrt(mat_2d.shape[0])), int(sqrt(mat_2d.shape[0])), mat_2d.shape[1]]\n",
    "    mat_3d    = np.reshape(mat_2d, new_shape, order)\n",
    "    mat_3d    = np.transpose(mat_3d)\n",
    "\n",
    "    return(mat_3d)\n"
   ]
  },
  {
   "cell_type": "code",
   "execution_count": 97,
   "metadata": {},
   "outputs": [],
   "source": [
    "def find_knee(k_ls, vals):\n",
    "    from kneed import KneeLocator\n",
    "\n",
    "    kl = KneeLocator(\n",
    "        k_ls, vals, curve=\"convex\", direction=\"decreasing\"\n",
    "    )\n",
    "\n",
    "    return(kl.elbow)"
   ]
  },
  {
   "cell_type": "code",
   "execution_count": 115,
   "metadata": {},
   "outputs": [],
   "source": [
    "def det_k(mat, n_clusters=[2,3,4], n_init=10, max_iter=300, random_state=42):\n",
    "    from numpy import argmin\n",
    "    from sklearn.cluster import KMeans\n",
    "    from sklearn.metrics import silhouette_score\n",
    "\n",
    "    if len(n_clusters) <= 1:\n",
    "        raise Exception(\"n_clusters must be a list with at least 2 entries (i.e., n > 1)\")\n",
    "    if 1 in n_clusters:\n",
    "        raise Exception(\"n_clusters cannot contain 1.\")\n",
    "\n",
    "    kmeans_kwargs = {\n",
    "            \"init\": \"random\",\n",
    "            \"n_init\": n_init,\n",
    "            \"max_iter\": max_iter,\n",
    "            \"random_state\": random_state,\n",
    "        }\n",
    "\n",
    "    # A list holds the SSE values for each k\n",
    "    sse  = []\n",
    "    silh = []\n",
    "    for k in n_clusters:\n",
    "        kmeans = KMeans(n_clusters=k, **kmeans_kwargs)\n",
    "        kmeans.fit(mat)\n",
    "        # sse knee\n",
    "        sse.append(kmeans.inertia_)\n",
    "        # silhouette coefficient\n",
    "        score = silhouette_score(mat, kmeans.labels_)\n",
    "        silh.append(score)\n",
    "    \n",
    "    knee = find_knee(n_clusters, sse)\n",
    "\n",
    "    out_vals = {\n",
    "        \"SSE\": sse,\n",
    "        \"Silhouette\": silh\n",
    "    }\n",
    "\n",
    "    return(knee, out_vals)\n",
    "\n",
    "    "
   ]
  },
  {
   "cell_type": "code",
   "execution_count": 125,
   "metadata": {},
   "outputs": [],
   "source": [
    "def kmeans_fc(mat, n_clusters=3, n_init=10, max_iter=300, random_state=42):\n",
    "    import numpy as np\n",
    "    from sklearn.cluster import KMeans\n",
    "\n",
    "    if len(mat.shape) == 3:\n",
    "        mat = mat3Dto2D(mat)\n",
    "    elif len(mat.shape) != 2:\n",
    "        raise Exception(\"The provided matrix to cluster must be either 2D (obs,  var) or 3D (varb, varb, obs).\")\n",
    "\n",
    "    kmeans = KMeans(\n",
    "        init=\"random\",\n",
    "        n_clusters=n_clusters,\n",
    "        n_init=n_init,\n",
    "        max_iter=max_iter,\n",
    "        random_state=random_state\n",
    "    )\n",
    "\n",
    "    clust  = kmeans.fit(mat)\n",
    "\n",
    "    return(clust)"
   ]
  },
  {
   "source": [
    "# Testing Area"
   ],
   "cell_type": "markdown",
   "metadata": {}
  },
  {
   "cell_type": "code",
   "execution_count": null,
   "metadata": {},
   "outputs": [],
   "source": [
    "# mask_path  = \"/mnt/c/Users/John/Desktop/MNI/MNI-maxprob-thr0-2mm.nii.gz\"\n",
    "# nifti_path = \"/mnt/d/Downloads/ds000031-download/sub-01/ses-003/out/func/scrub_motreg_s_nl_m_t_func.nii.gz\"\n",
    "# file_out   = \"/mnt/c/Users/John/Desktop/mean_roi_tcourse.csv\"\n",
    "\n",
    "mask_path  = \"C:/Users/John/Desktop/MNI/MNI-maxprob-thr0-2mm.nii.gz\"\n",
    "nifti_path = \"D:/Downloads/ds000031-download/sub-01/ses-003/out/func/scrub_motreg_s_nl_m_t_func.nii.gz\"\n",
    "file_out   = \"C:/Users/John/Desktop/mean_roi_tcourse.csv\"\n",
    "\n",
    "tcourse = atlas_tcourse(nifti_path, mask_path, file_out)"
   ]
  },
  {
   "cell_type": "code",
   "execution_count": 38,
   "metadata": {},
   "outputs": [],
   "source": [
    "file_out   = \"C:/Users/John/Desktop/mean_roi_tcourse.csv\"\n",
    "\n",
    "mat = np.loadtxt(open(file_out, \"rb\"), delimiter=\",\", skiprows=1)"
   ]
  },
  {
   "cell_type": "code",
   "execution_count": 48,
   "metadata": {},
   "outputs": [],
   "source": [
    "fc_mats = sliding_twin(mat, 30, 10, save_path=\"C:/Users/John/Desktop/test_FCmat.mat\", fill_tline=False)"
   ]
  },
  {
   "cell_type": "code",
   "execution_count": 71,
   "metadata": {},
   "outputs": [],
   "source": [
    "test2d=mat3Dto2D(fc_mats, order=\"C\")\n",
    "test3d=mat2Dto3D(test2d , order=\"C\")\n"
   ]
  },
  {
   "cell_type": "code",
   "execution_count": 116,
   "metadata": {},
   "outputs": [],
   "source": [
    "knee, vals,  = det_k(test2d, n_clusters=[2,3,4,5,6,7,8,9,10], n_init=10, max_iter=500, random_state=42)"
   ]
  },
  {
   "cell_type": "code",
   "execution_count": 126,
   "metadata": {},
   "outputs": [],
   "source": [
    "clusters = kmeans_fc(fc_mats, n_clusters=knee, n_init=20, max_iter=500, random_state=42)"
   ]
  },
  {
   "cell_type": "code",
   "execution_count": 128,
   "metadata": {},
   "outputs": [
    {
     "output_type": "execute_result",
     "data": {
      "text/plain": [
       "array([2, 1, 2, 2, 0, 0, 2, 0, 2, 1, 2, 1, 1, 3, 3, 1, 3, 1, 2, 1, 2, 2,\n",
       "       0, 0, 4, 0, 2, 2, 1, 2, 2, 0, 0, 2, 0, 2, 0, 3, 0, 0, 2, 2, 4, 2,\n",
       "       0, 0, 3, 0, 0, 2, 2, 4, 2, 0, 2, 1, 4, 2, 4, 4, 2, 4, 4, 0, 3, 0,\n",
       "       0, 2, 2, 4, 2, 0, 2, 1, 2, 2, 0, 0, 4, 0, 2])"
      ]
     },
     "metadata": {},
     "execution_count": 128
    }
   ],
   "source": []
  }
 ]
}