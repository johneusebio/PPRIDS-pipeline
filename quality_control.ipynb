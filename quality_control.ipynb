{
 "cells": [
  {
   "cell_type": "code",
   "execution_count": 1,
   "metadata": {},
   "outputs": [],
   "source": [
    "import os \n",
    "import tqdm\n",
    "import numpy as np\n",
    "import pandas as pd\n",
    "import nilearn as nil\n",
    "import nibabel as nib\n",
    "import matplotlib.pyplot as plt\n",
    "from nilearn.decomposition import CanICA\n",
    "from nilearn.plotting import plot_prob_atlas"
   ]
  },
  {
   "cell_type": "code",
   "execution_count": 2,
   "metadata": {},
   "outputs": [],
   "source": [
    "subj_ls = [\n",
    "    \"2357ZL\",\n",
    "    \"2359ZL\",\n",
    "    \"2360ZL\",\n",
    "    \"2364ZL\",\n",
    "    \"2365ZL\",\n",
    "    \"2371ZL\",\n",
    "    \"2377ZL\",\n",
    "    \"2431ZL\",\n",
    "    \"2486ZL\",\n",
    "    \"2505ZL\",\n",
    "    \"2523ZL\",\n",
    "    \"2524ZL\",\n",
    "    \"2528ZL\",\n",
    "    \"2538ZL\",\n",
    "    \"2540ZL\",\n",
    "    \"2542ZL\",\n",
    "    \"2544ZL\",\n",
    "    \"2548ZL\",\n",
    "    \"2553ZL\",\n",
    "    \"2554ZL\",\n",
    "    \"2555ZL\",\n",
    "    \"2556ZL\",\n",
    "    \"2561ZL\",\n",
    "    \"2568ZL\",\n",
    "    \"2570ZL\",\n",
    "    \"2573ZL\",\n",
    "    \"2577ZL\",\n",
    "    \"2581ZL\",\n",
    "    \"2582ZL\",\n",
    "    \"2583ZL\",\n",
    "    \"2584ZL\",\n",
    "    \"2588ZL\",\n",
    "    \"2590ZL\",\n",
    "    \"2591ZL\",\n",
    "    \"2592ZL\",\n",
    "    \"2593ZL\",\n",
    "    \"2594ZL\",\n",
    "    \"2595ZL\",\n",
    "    \"2596ZL\",\n",
    "    \"2597ZL\",\n",
    "    \"2599ZL\",\n",
    "    \"2600ZL\",\n",
    "    \"2602ZL\",\n",
    "    \"2603ZL\",\n",
    "    \"2604ZL\",\n",
    "    \"2605ZL\",\n",
    "    \"2607ZL\",\n",
    "    \"2608ZL\",\n",
    "    \"2609ZL\",\n",
    "    \"2610ZL\"\n",
    "]"
   ]
  },
  {
   "cell_type": "markdown",
   "metadata": {},
   "source": [
    "# ICA"
   ]
  },
  {
   "cell_type": "code",
   "execution_count": 5,
   "metadata": {},
   "outputs": [
    {
     "name": "stderr",
     "output_type": "stream",
     "text": [
      "100%|██████████| 50/50 [00:04<00:00, 10.09it/s]\n"
     ]
    }
   ],
   "source": [
    "for subj in tqdm.tqdm(subj_ls):\n",
    "    nii=f\"/mnt/d/doctoral_thesis/Rest/{subj}/func/s_scrub_nuis_nl_m_t_func.nii.gz\"\n",
    "    msk=f\"/mnt/d/doctoral_thesis/Rest/{subj}/anat/bin_nl_brain_MPRage.nii.gz\"\n",
    "\n",
    "    ica_fig=f\"/mnt/d/doctoral_thesis/Rest/{subj}/qc/ica/ICA_fig.jpg\"\n",
    "    ica_nii=f\"/mnt/d/doctoral_thesis/Rest/{subj}/qc/ica/ICA_fig.nii.gz\"\n",
    "    \n",
    "    try:\n",
    "        os.mkdir(f\"/mnt/d/doctoral_thesis/Rest/{subj}/qc\")\n",
    "        os.mkdir(f\"/mnt/d/doctoral_thesis/Rest/{subj}/qc/ica\")\n",
    "        os.mkdir(f\"/mnt/d/doctoral_thesis/Rest/{subj}/qc/motion\")\n",
    "    except FileExistsError: \n",
    "        print(f\"Directory already exists: {subj}\")\n",
    "\n",
    "    ica=CanICA(mask=msk, smoothing_fwhm=None, n_components=4).fit(nii)\n",
    "    plot_prob_atlas(ica.components_img_, output_file=ica_fig)\n",
    "    ica.components_img_.to_filename(ica_nii)"
   ]
  },
  {
   "cell_type": "markdown",
   "metadata": {},
   "source": [
    "# Motion Correlation"
   ]
  },
  {
   "cell_type": "markdown",
   "metadata": {},
   "source": [
    "## Complete"
   ]
  },
  {
   "cell_type": "code",
   "execution_count": null,
   "metadata": {},
   "outputs": [],
   "source": [
    "for subj in tqdm.tqdm(subj_ls):\n",
    "    mask=f\"/mnt/d/doctoral_thesis/Rest/{subj}/anat/bin_nl_brain_MPRage.nii.gz\"\n",
    "\n",
    "    nii_nuis        =f\"/mnt/d/doctoral_thesis/Rest/{subj}/func/nuis_nl_m_t_func.nii.gz\"\n",
    "    nii_scrub_nuis  =f\"/mnt/d/doctoral_thesis/Rest/{subj}/func/scrub_nuis_nl_m_t_func.nii.gz\"\n",
    "    nii_s_scrub_nuis=f\"/mnt/d/doctoral_thesis/Rest/{subj}/func/s_scrub_nuis_nl_m_t_func.nii.gz\"\n",
    "\n",
    "    fd=f\"/mnt/d/doctoral_thesis/Rest/{subj}/motion/fd.1D\"\n",
    "    fd_arr=np.genfromtxt(fd)\n",
    "\n",
    "    # load mask\n",
    "    mask_img=nib.load(mask).get_fdata()\n",
    "\n",
    "    # mean time courses\n",
    "    mean_nuis         = np.nanmean(nib.load(nii_nuis        ).get_fdata()[mask_img==1,:], axis=0)\n",
    "    mean_scrub_nuis   = np.nanmean(nib.load(nii_scrub_nuis  ).get_fdata()[mask_img==1,:], axis=0)\n",
    "    mean_s_scrub_nuis = np.nanmean(nib.load(nii_s_scrub_nuis).get_fdata()[mask_img==1,:], axis=0)\n",
    "\n",
    "    # correlation\n",
    "    corr_nuis         = np.corrcoef(fd_arr, mean_nuis        )[0,1]\n",
    "    corr_scrub_nuis   = np.corrcoef(fd_arr, mean_scrub_nuis  )[0,1]\n",
    "    corr_s_scrub_nuis = np.corrcoef(fd_arr, mean_s_scrub_nuis)[0,1]\n",
    "\n",
    "    # prepare values\n",
    "    corr_vals = [corr_nuis, corr_scrub_nuis, corr_s_scrub_nuis]\n",
    "    corr_labs = [\"nuis\", \"nuis +\\nscrub\", \"nuis +\\nscrub +\\nsmooth\"]\n",
    "\n",
    "    # pandas dataframe\n",
    "    corr_pd=pd.DataFrame(corr_vals, columns=[i.replace(\"\\n\", \"\") for i in corr_labs])\n",
    "\n",
    "    # plotting\n",
    "    plt.bar(corr_labs, corr_vals, color=\"grey\", width=0.4)\n",
    "    plt.xlabel(\"Preprocessing Steps\")\n",
    "    plt.ylabel(\"Correlation (Pearson's r)\")\n",
    "    plt.title(\"Correlation between global brain signal and framewise displacement (FD)\")\n",
    "    for i, v in enumerate(corr_vals):\n",
    "        plt.text(i, v-(np.max(corr_vals)*0.2), str(np.round(v,2)), color=\"blue\", fontweight=\"bold\")\n",
    "\n",
    "    # saving\n",
    "    plt.savefig(f\"/mnt/d/doctoral_thesis/Rest/{subj}/fd_correlation.jpg\")\n",
    "    corr_pd.to_csv(f\"/mnt/d/doctoral_thesis/Rest/{subj}/fd_correlation.csv\")"
   ]
  },
  {
   "cell_type": "markdown",
   "metadata": {},
   "source": [
    "## Only Final"
   ]
  },
  {
   "cell_type": "code",
   "execution_count": 57,
   "metadata": {},
   "outputs": [
    {
     "name": "stderr",
     "output_type": "stream",
     "text": [
      "100%|██████████| 50/50 [15:58<00:00, 19.17s/it]\n"
     ]
    },
    {
     "data": {
      "text/plain": [
       "<Figure size 432x288 with 0 Axes>"
      ]
     },
     "metadata": {},
     "output_type": "display_data"
    }
   ],
   "source": [
    "for subj in tqdm.tqdm(subj_ls):\n",
    "    mask=f\"/mnt/d/doctoral_thesis/Rest/{subj}/anat/bin_nl_brain_MPRage.nii.gz\"\n",
    "\n",
    "    nii_s_scrub_nuis=f\"/mnt/d/doctoral_thesis/Rest/{subj}/func/s_scrub_nuis_nl_m_t_func.nii.gz\"\n",
    "\n",
    "    fd=f\"/mnt/d/doctoral_thesis/Rest/{subj}/motion/fd.1D\"\n",
    "    fd_arr=np.genfromtxt(fd)\n",
    "\n",
    "    # load mask\n",
    "    mask_img=nib.load(mask).get_fdata()\n",
    "\n",
    "    # mean time courses\n",
    "    mean_s_scrub_nuis = np.nanmean(nib.load(nii_s_scrub_nuis).get_fdata()[mask_img==1,:], axis=0)\n",
    "\n",
    "    # correlation\n",
    "    corr_s_scrub_nuis = np.corrcoef(fd_arr, mean_s_scrub_nuis)[0,1]\n",
    "\n",
    "    # prepare values\n",
    "    corr_vals = [corr_s_scrub_nuis]\n",
    "    corr_labs = [\"nuis +\\nscrub +\\nsmooth\"]\n",
    "\n",
    "    # pandas dataframe\n",
    "    corr_pd=pd.DataFrame(corr_vals, columns=[i.replace(\"\\n\", \"\") for i in corr_labs])\n",
    "\n",
    "    # plotting\n",
    "    plt.bar(corr_labs, corr_vals, color=\"grey\", width=0.4)\n",
    "    plt.ylabel(\"Pearson's r\")\n",
    "    plt.title(\"Correlation between GBS and FD\")\n",
    "    for i, v in enumerate(corr_vals):\n",
    "        plt.text(i, v-(np.max(corr_vals)*0.2), str(np.round(v,2)), color=\"blue\", fontweight=\"bold\")\n",
    "\n",
    "    # saving\n",
    "    plt.savefig(f\"/mnt/d/doctoral_thesis/Rest/{subj}/qc/motion/fd_correlation.jpg\")\n",
    "    corr_pd.to_csv(f\"/mnt/d/doctoral_thesis/Rest/{subj}/qc/motion/fd_correlation.csv\")\n",
    "    \n",
    "    plt.close()"
   ]
  },
  {
   "cell_type": "markdown",
   "metadata": {},
   "source": [
    "# Group Analysis"
   ]
  },
  {
   "cell_type": "markdown",
   "metadata": {},
   "source": [
    "## Motion"
   ]
  },
  {
   "cell_type": "code",
   "execution_count": 109,
   "metadata": {},
   "outputs": [],
   "source": [
    "grp_corrs=[float(pd.read_csv(f\"/mnt/d/doctoral_thesis/Rest/{subj}/qc/motion/fd_correlation.csv\", index_col=0).loc[0]) for subj in subj_ls ]\n",
    "grp_labs=\"nuis + scrub + smooth\""
   ]
  },
  {
   "cell_type": "code",
   "execution_count": 110,
   "metadata": {},
   "outputs": [
    {
     "data": {
      "text/plain": [
       "['subjs', 'nuis + scrub + smooth']"
      ]
     },
     "execution_count": 110,
     "metadata": {},
     "output_type": "execute_result"
    }
   ],
   "source": [
    "[\"subjs\", grp_labs]"
   ]
  },
  {
   "cell_type": "code",
   "execution_count": 116,
   "metadata": {},
   "outputs": [],
   "source": [
    "grp_pd=pd.DataFrame(np.transpose([subj_ls, grp_corrs]), columns=[\"subjs\", grp_labs])\n",
    "grp_pd.to_csv(\"/mnt/d/doctoral_thesis/Rest/GROUP/motion/fd_correlation.csv\", index=False)"
   ]
  },
  {
   "cell_type": "code",
   "execution_count": 128,
   "metadata": {},
   "outputs": [],
   "source": [
    "# plotting\n",
    "plt.bar(range(len(subj_ls)), grp_corrs, color=\"grey\", width=.4)\n",
    "plt.ylabel(\"Pearson's r\")\n",
    "plt.title(\"Correlation between GBS and FD\")\n",
    "plt.axhline( .3, color=\"red\", linestyle=\"--\")\n",
    "plt.axhline(-.3, color=\"red\", linestyle=\"--\")\n",
    "plt.savefig(\"/mnt/d/doctoral_thesis/Rest/GROUP/motion/fd_correlation.jpg\")\n",
    "\n",
    "plt.close()"
   ]
  },
  {
   "cell_type": "markdown",
   "metadata": {},
   "source": [
    "## ICA"
   ]
  },
  {
   "cell_type": "code",
   "execution_count": 3,
   "metadata": {},
   "outputs": [
    {
     "name": "stderr",
     "output_type": "stream",
     "text": [
      "/home/john/.local/lib/python3.8/site-packages/nilearn/plotting/img_plotting.py:300: FutureWarning: Default resolution of the MNI template will change from 2mm to 1mm in version 0.10.0\n",
      "  anat_img = load_mni152_template()\n"
     ]
    }
   ],
   "source": [
    "nii=[f\"/mnt/d/doctoral_thesis/Rest/{subj}/func/s_scrub_nuis_nl_m_t_func.nii.gz\" for subj in subj_ls]\n",
    "msk=\"/mnt/d/doctoral_thesis/template/MNI152_T1_2mm_brain_mask.nii.gz\"\n",
    "\n",
    "ica_fig=\"/mnt/d/doctoral_thesis/Rest/GROUP/ica/ICA_fig.jpg\"\n",
    "ica_nii=\"/mnt/d/doctoral_thesis/Rest/GROUP/ica/ICA_fig.nii.gz\"\n",
    "\n",
    "ica=CanICA(mask=msk, smoothing_fwhm=None, n_components=4).fit(nii)\n",
    "plot_prob_atlas(ica.components_img_, output_file=ica_fig)\n",
    "ica.components_img_.to_filename(ica_nii)"
   ]
  },
  {
   "cell_type": "markdown",
   "metadata": {},
   "source": [
    "### Outlier Detection"
   ]
  },
  {
   "cell_type": "code",
   "execution_count": 13,
   "metadata": {},
   "outputs": [],
   "source": [
    "ica_scores=ica.score(nii, per_component=True)"
   ]
  },
  {
   "cell_type": "code",
   "execution_count": 15,
   "metadata": {},
   "outputs": [
    {
     "data": {
      "text/plain": [
       "array([0.01350413, 0.0231532 , 0.01251245, 0.01864819])"
      ]
     },
     "execution_count": 15,
     "metadata": {},
     "output_type": "execute_result"
    }
   ],
   "source": [
    "ica_scores"
   ]
  }
 ],
 "metadata": {
  "kernelspec": {
   "display_name": "Python 3.8.10 64-bit",
   "language": "python",
   "name": "python3"
  },
  "language_info": {
   "codemirror_mode": {
    "name": "ipython",
    "version": 3
   },
   "file_extension": ".py",
   "mimetype": "text/x-python",
   "name": "python",
   "nbconvert_exporter": "python",
   "pygments_lexer": "ipython3",
   "version": "3.8.10"
  },
  "orig_nbformat": 4,
  "vscode": {
   "interpreter": {
    "hash": "e7370f93d1d0cde622a1f8e1c04877d8463912d04d973331ad4851f04de6915a"
   }
  }
 },
 "nbformat": 4,
 "nbformat_minor": 2
}
