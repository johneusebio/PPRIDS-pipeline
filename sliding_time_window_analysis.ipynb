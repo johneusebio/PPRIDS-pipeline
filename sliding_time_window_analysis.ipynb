{
    "cells": [
        {
            "cell_type": "code",
            "execution_count": 1,
            "source": [
                "# adding scritps to path\n",
                "import sys\n",
                "sys.path.insert(1, '/mnt/c/Users/john/OneDrive - University of Toronto/software/sliding_twin')"
            ],
            "outputs": [],
            "metadata": {}
        },
        {
            "cell_type": "code",
            "execution_count": 2,
            "source": [
                "# dependencies\n",
                "import os\n",
                "import numpy as np\n",
                "import nilearn as nl\n",
                "import nibabel as nib\n",
                "import slide_twin as twin\n",
                "from importlib import reload\n",
                "from scipy.signal import argrelextrema, find_peaks\n",
                "from nilearn.input_data import NiftiLabelsMasker"
            ],
            "outputs": [],
            "metadata": {}
        },
        {
            "cell_type": "code",
            "execution_count": null,
            "source": [
                "# reload modules\n",
                "reload(twin)"
            ],
            "outputs": [],
            "metadata": {}
        },
        {
            "cell_type": "markdown",
            "source": [
                "# Making Sliding Time Windows"
            ],
            "metadata": {}
        },
        {
            "cell_type": "code",
            "execution_count": 6,
            "source": [
                "# importing atlas and mask\n",
                "atlas_mask = \"/mnt/c/Users/john/Desktop/craddock_2012/t20.nii.gz\"\n",
                "\n",
                "nii = \"/mnt/d/doctoral_thesis/Preprocessing/2364ZL/func/scrub_nuis_nl_m_t_func.nii.gz\"\n",
                "out = \"/mnt/d/doctoral_thesis/Preprocessing/2364ZL/sliding_timewindows\"\n",
                "\n",
                "# nii_ls = [\"/mnt/d/doctoral_thesis/Preprocessing/2357ZL/func/scrub_nuis_nl_m_t_func.nii.gz\"]\n",
                "# out_ls = [\"/mnt/d/doctoral_thesis/Preprocessing/2357ZL/roi_tcourses\"]"
            ],
            "outputs": [],
            "metadata": {}
        },
        {
            "cell_type": "code",
            "execution_count": 4,
            "source": [
                "win=20\n",
                "step=1"
            ],
            "outputs": [],
            "metadata": {}
        },
        {
            "cell_type": "code",
            "execution_count": 9,
            "source": [
                "# for nii, out in zip(nii_ls, out_ls):\n",
                "roi_path = os.path.join(out, \"roi_tcourses.csv\")\n",
                "twin_path = os.path.join(out, \"roi_twin.mat\")\n",
                "masker = NiftiLabelsMasker(labels_img=atlas_mask, standardize=True)\n",
                "tcourses = masker.fit_transform(nii)"
            ],
            "outputs": [],
            "metadata": {}
        },
        {
            "cell_type": "code",
            "execution_count": 10,
            "source": [
                "fc_mats, twindows  = twin.sliding_twin(tcourses, win, step, twin_path)"
            ],
            "outputs": [
                {
                    "output_type": "stream",
                    "name": "stderr",
                    "text": [
                        "/home/john/.local/lib/python3.8/site-packages/numpy/lib/function_base.py:2642: RuntimeWarning: invalid value encountered in true_divide\n",
                        "  c /= stddev[:, None]\n",
                        "/home/john/.local/lib/python3.8/site-packages/numpy/lib/function_base.py:2643: RuntimeWarning: invalid value encountered in true_divide\n",
                        "  c /= stddev[None, :]\n"
                    ]
                }
            ],
            "metadata": {}
        },
        {
            "cell_type": "code",
            "execution_count": 82,
            "source": [
                "fc_var = np.asanyarray([np.var(fc_mats[:,:,X]) for X in range(fc_mats.shape[2])])\n",
                "local_max = np.transpose(argrelextrema(fc_var, np.greater))"
            ],
            "outputs": [],
            "metadata": {}
        },
        {
            "cell_type": "code",
            "execution_count": 88,
            "source": [
                "# write local max to text file\n",
                "lmax_path = os.path.join(out, \"var_localmax.csv\")\n",
                "np.savetxt(lmax_path, local_max.astype(int), fmt='%i', delimiter=\",\")"
            ],
            "outputs": [],
            "metadata": {}
        },
        {
            "cell_type": "code",
            "execution_count": 91,
            "source": [
                "import matplotlib.pyplot as plt\n",
                "\n",
                "plt.scatter(y=fc_var, x=range(len(fc_var)))\n",
                "plt.scatter(y=fc_var[local_max], x=local_max, edgecolors=\"red\")\n",
                "plt.show()"
            ],
            "outputs": [
                {
                    "output_type": "display_data",
                    "data": {
                        "image/png": "[encoded data removed]",
                        "text/plain": [
                            "<Figure size 432x288 with 1 Axes>"
                        ]
                    },
                    "metadata": {
                        "needs_background": "light"
                    }
                }
            ],
            "metadata": {}
        },
        {
            "cell_type": "markdown",
            "source": [
                "This is pretty messy and includes a lot of local maxima. Consider implementing a smoothing kernel."
            ],
            "metadata": {}
        }
    ],
    "metadata": {
        "orig_nbformat": 4,
        "language_info": {
            "name": "python",
            "version": "3.8.10",
            "mimetype": "text/x-python",
            "codemirror_mode": {
                "name": "ipython",
                "version": 3
            },
            "pygments_lexer": "ipython3",
            "nbconvert_exporter": "python",
            "file_extension": ".py"
        },
        "kernelspec": {
            "name": "python3",
            "display_name": "Python 3.8.10 64-bit"
        },
        "interpreter": {
            "hash": "31f2aee4e71d21fbe5cf8b01ff0e069b9275f58929596ceb00d14d90e3e16cd6"
        }
    },
    "nbformat": 4,
    "nbformat_minor": 2
}