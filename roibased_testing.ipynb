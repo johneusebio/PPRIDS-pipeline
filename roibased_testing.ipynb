{
 "cells": [
  {
   "cell_type": "code",
   "execution_count": 1,
   "metadata": {},
   "outputs": [
    {
     "name": "stderr",
     "output_type": "stream",
     "text": [
      "/home/john/.local/lib/python3.8/site-packages/nilearn/datasets/__init__.py:93: FutureWarning: Fetchers from the nilearn.datasets module will be updated in version 0.9 to return python strings instead of bytes and Pandas dataframes instead of Numpy arrays.\n",
      "  warn(\"Fetchers from the nilearn.datasets module will be \"\n"
     ]
    }
   ],
   "source": [
    "import os\n",
    "import sys\n",
    "import tqdm\n",
    "import numpy as np\n",
    "import scipy as scp\n",
    "import pandas as pd\n",
    "import seaborn as sns\n",
    "import nibabel as nib\n",
    "import matplotlib.pyplot as plt\n",
    "\n",
    "from itertools import chain\n",
    "from importlib import reload\n",
    "from itertools import groupby\n",
    "from matplotlib.lines import Line2D\n",
    "from nilearn.plotting import plot_design_matrix\n",
    "from nilearn.glm.first_level import FirstLevelModel\n",
    "from nilearn.glm.first_level import make_first_level_design_matrix"
   ]
  },
  {
   "cell_type": "code",
   "execution_count": 2,
   "metadata": {},
   "outputs": [],
   "source": [
    "usrnm = \"enter\" # laptop\n",
    "# usrnm = \"John\"  # desktop\n",
    "sys.path.append(f\"/mnt/c/Users/{usrnm}/OneDrive - University of Toronto/Labs/Farb Lab/Dissertation/scripts\")"
   ]
  },
  {
   "cell_type": "code",
   "execution_count": 3,
   "metadata": {},
   "outputs": [
    {
     "ename": "ImportError",
     "evalue": "cannot import name 'maskers' from 'nilearn' (/home/john/.local/lib/python3.8/site-packages/nilearn/__init__.py)",
     "output_type": "error",
     "traceback": [
      "\u001b[0;31m---------------------------------------------------------------------------\u001b[0m",
      "\u001b[0;31mImportError\u001b[0m                               Traceback (most recent call last)",
      "\u001b[0;32m/tmp/ipykernel_5102/1828629608.py\u001b[0m in \u001b[0;36m<module>\u001b[0;34m\u001b[0m\n\u001b[1;32m      3\u001b[0m \u001b[0;32mimport\u001b[0m \u001b[0minput_import\u001b[0m \u001b[0;32mas\u001b[0m \u001b[0minm\u001b[0m\u001b[0;34m\u001b[0m\u001b[0;34m\u001b[0m\u001b[0m\n\u001b[1;32m      4\u001b[0m \u001b[0;32mimport\u001b[0m \u001b[0mpreprocessing\u001b[0m \u001b[0;32mas\u001b[0m \u001b[0mpp\u001b[0m\u001b[0;34m\u001b[0m\u001b[0;34m\u001b[0m\u001b[0m\n\u001b[0;32m----> 5\u001b[0;31m \u001b[0;32mimport\u001b[0m \u001b[0mroi_tseries\u001b[0m \u001b[0;32mas\u001b[0m \u001b[0mroits\u001b[0m\u001b[0;34m\u001b[0m\u001b[0;34m\u001b[0m\u001b[0m\n\u001b[0m\u001b[1;32m      6\u001b[0m \u001b[0;32mimport\u001b[0m \u001b[0mfmri_clustering\u001b[0m \u001b[0;32mas\u001b[0m \u001b[0mfmric\u001b[0m\u001b[0;34m\u001b[0m\u001b[0;34m\u001b[0m\u001b[0m\n\u001b[1;32m      7\u001b[0m \u001b[0;32mimport\u001b[0m \u001b[0msliding_time_windows\u001b[0m \u001b[0;32mas\u001b[0m \u001b[0mstwins\u001b[0m\u001b[0;34m\u001b[0m\u001b[0;34m\u001b[0m\u001b[0m\n",
      "\u001b[0;32m/mnt/c/Users/enter/OneDrive - University of Toronto/labs/Farb Lab/Dissertation/scripts/roi_tseries.py\u001b[0m in \u001b[0;36m<module>\u001b[0;34m\u001b[0m\n\u001b[1;32m     11\u001b[0m \u001b[0;32mimport\u001b[0m \u001b[0minput_import\u001b[0m \u001b[0;32mas\u001b[0m \u001b[0minm\u001b[0m\u001b[0;34m\u001b[0m\u001b[0;34m\u001b[0m\u001b[0m\n\u001b[1;32m     12\u001b[0m \u001b[0;34m\u001b[0m\u001b[0m\n\u001b[0;32m---> 13\u001b[0;31m \u001b[0;32mfrom\u001b[0m \u001b[0mnilearn\u001b[0m \u001b[0;32mimport\u001b[0m \u001b[0mimage\u001b[0m\u001b[0;34m,\u001b[0m \u001b[0mmaskers\u001b[0m\u001b[0;34m\u001b[0m\u001b[0;34m\u001b[0m\u001b[0m\n\u001b[0m\u001b[1;32m     14\u001b[0m \u001b[0;34m\u001b[0m\u001b[0m\n\u001b[1;32m     15\u001b[0m \u001b[0;32mdef\u001b[0m \u001b[0mget_niimat\u001b[0m\u001b[0;34m(\u001b[0m\u001b[0mx\u001b[0m\u001b[0;34m)\u001b[0m\u001b[0;34m:\u001b[0m\u001b[0;34m\u001b[0m\u001b[0;34m\u001b[0m\u001b[0m\n",
      "\u001b[0;31mImportError\u001b[0m: cannot import name 'maskers' from 'nilearn' (/home/john/.local/lib/python3.8/site-packages/nilearn/__init__.py)"
     ]
    }
   ],
   "source": [
    "# importing custom packages\n",
    "\n",
    "import input_import as inm\n",
    "import preprocessing as pp\n",
    "import roi_tseries as roits\n",
    "import fmri_clustering as fmric\n",
    "import sliding_time_windows as stwins"
   ]
  },
  {
   "cell_type": "markdown",
   "metadata": {},
   "source": [
    "# Define test dataset"
   ]
  },
  {
   "cell_type": "code",
   "execution_count": 4,
   "metadata": {},
   "outputs": [],
   "source": [
    "subj=\"2357ZL\"\n",
    "\n",
    "rest_nii=f\"/mnt/d/doctoral_thesis/Rest/{subj}/func/s_scrub_nuis_nl_m_t_func.nii.gz\"\n",
    "sart_nii=f\"/mnt/d/doctoral_thesis/SART/{subj}/func/s_scrub_nuis_nl_m_t_func.nii.gz\"\n",
    "\n",
    "sart_behav=f\"/mnt/d/doctoral_thesis/OSU_data/behav/{subj}_GoNogo.mat\""
   ]
  },
  {
   "cell_type": "markdown",
   "metadata": {},
   "source": [
    "## Defining SART Events"
   ]
  },
  {
   "cell_type": "code",
   "execution_count": 5,
   "metadata": {},
   "outputs": [],
   "source": [
    "subj_behav=scp.io.loadmat(sart_behav)"
   ]
  },
  {
   "cell_type": "code",
   "execution_count": 6,
   "metadata": {},
   "outputs": [],
   "source": [
    "# simple contrast of Experimental (1) - Control (2)\n",
    "subj_behav_pd = pd.DataFrame(data=subj_behav[\"rec\"], \n",
    "                             columns=[\"iTrial\",\"iCondition\",\"Letters\",\"RT\",\"startSecs\"])"
   ]
  },
  {
   "cell_type": "code",
   "execution_count": 7,
   "metadata": {},
   "outputs": [],
   "source": [
    "subj_events = {\"onset\": [], \"trial_type\": [], \"modulation\": [], \"duration\": []}\n",
    "for row in range(subj_behav_pd.shape[0]):\n",
    "    subj_events[\"onset\"].append(subj_behav_pd.loc[row,\"startSecs\"])\n",
    "    subj_events[\"trial_type\"].append(\"go\" if subj_behav_pd.loc[row,\"iCondition\"]==1 else \"nogo\")\n",
    "    subj_events[\"modulation\"].append(-1 if subj_behav_pd.loc[row,\"iCondition\"]==1 else 1)\n",
    "    subj_events[\"duration\"].append(0.5)"
   ]
  },
  {
   "cell_type": "code",
   "execution_count": 8,
   "metadata": {},
   "outputs": [],
   "source": [
    "subj_events=pd.DataFrame.from_dict(subj_events)"
   ]
  },
  {
   "cell_type": "code",
   "execution_count": 9,
   "metadata": {},
   "outputs": [
    {
     "data": {
      "text/html": [
       "<div>\n",
       "<style scoped>\n",
       "    .dataframe tbody tr th:only-of-type {\n",
       "        vertical-align: middle;\n",
       "    }\n",
       "\n",
       "    .dataframe tbody tr th {\n",
       "        vertical-align: top;\n",
       "    }\n",
       "\n",
       "    .dataframe thead th {\n",
       "        text-align: right;\n",
       "    }\n",
       "</style>\n",
       "<table border=\"1\" class=\"dataframe\">\n",
       "  <thead>\n",
       "    <tr style=\"text-align: right;\">\n",
       "      <th></th>\n",
       "      <th>onset</th>\n",
       "      <th>trial_type</th>\n",
       "      <th>modulation</th>\n",
       "      <th>duration</th>\n",
       "    </tr>\n",
       "  </thead>\n",
       "  <tbody>\n",
       "    <tr>\n",
       "      <th>0</th>\n",
       "      <td>0.0</td>\n",
       "      <td>go</td>\n",
       "      <td>-1</td>\n",
       "      <td>0.5</td>\n",
       "    </tr>\n",
       "    <tr>\n",
       "      <th>1</th>\n",
       "      <td>4.0</td>\n",
       "      <td>go</td>\n",
       "      <td>-1</td>\n",
       "      <td>0.5</td>\n",
       "    </tr>\n",
       "    <tr>\n",
       "      <th>2</th>\n",
       "      <td>8.0</td>\n",
       "      <td>go</td>\n",
       "      <td>-1</td>\n",
       "      <td>0.5</td>\n",
       "    </tr>\n",
       "    <tr>\n",
       "      <th>3</th>\n",
       "      <td>10.0</td>\n",
       "      <td>nogo</td>\n",
       "      <td>1</td>\n",
       "      <td>0.5</td>\n",
       "    </tr>\n",
       "    <tr>\n",
       "      <th>4</th>\n",
       "      <td>14.0</td>\n",
       "      <td>go</td>\n",
       "      <td>-1</td>\n",
       "      <td>0.5</td>\n",
       "    </tr>\n",
       "    <tr>\n",
       "      <th>...</th>\n",
       "      <td>...</td>\n",
       "      <td>...</td>\n",
       "      <td>...</td>\n",
       "      <td>...</td>\n",
       "    </tr>\n",
       "    <tr>\n",
       "      <th>95</th>\n",
       "      <td>324.0</td>\n",
       "      <td>go</td>\n",
       "      <td>-1</td>\n",
       "      <td>0.5</td>\n",
       "    </tr>\n",
       "    <tr>\n",
       "      <th>96</th>\n",
       "      <td>326.0</td>\n",
       "      <td>go</td>\n",
       "      <td>-1</td>\n",
       "      <td>0.5</td>\n",
       "    </tr>\n",
       "    <tr>\n",
       "      <th>97</th>\n",
       "      <td>328.0</td>\n",
       "      <td>go</td>\n",
       "      <td>-1</td>\n",
       "      <td>0.5</td>\n",
       "    </tr>\n",
       "    <tr>\n",
       "      <th>98</th>\n",
       "      <td>332.0</td>\n",
       "      <td>go</td>\n",
       "      <td>-1</td>\n",
       "      <td>0.5</td>\n",
       "    </tr>\n",
       "    <tr>\n",
       "      <th>99</th>\n",
       "      <td>334.0</td>\n",
       "      <td>go</td>\n",
       "      <td>-1</td>\n",
       "      <td>0.5</td>\n",
       "    </tr>\n",
       "  </tbody>\n",
       "</table>\n",
       "<p>100 rows × 4 columns</p>\n",
       "</div>"
      ],
      "text/plain": [
       "    onset trial_type  modulation  duration\n",
       "0     0.0         go          -1       0.5\n",
       "1     4.0         go          -1       0.5\n",
       "2     8.0         go          -1       0.5\n",
       "3    10.0       nogo           1       0.5\n",
       "4    14.0         go          -1       0.5\n",
       "..    ...        ...         ...       ...\n",
       "95  324.0         go          -1       0.5\n",
       "96  326.0         go          -1       0.5\n",
       "97  328.0         go          -1       0.5\n",
       "98  332.0         go          -1       0.5\n",
       "99  334.0         go          -1       0.5\n",
       "\n",
       "[100 rows x 4 columns]"
      ]
     },
     "execution_count": 9,
     "metadata": {},
     "output_type": "execute_result"
    }
   ],
   "source": [
    "subj_events"
   ]
  },
  {
   "cell_type": "markdown",
   "metadata": {},
   "source": [
    "# SART GLM"
   ]
  },
  {
   "cell_type": "markdown",
   "metadata": {},
   "source": [
    "## Construct the Design Matrix"
   ]
  },
  {
   "cell_type": "code",
   "execution_count": 10,
   "metadata": {},
   "outputs": [],
   "source": [
    "nib_sart = nib.load(sart_nii)"
   ]
  },
  {
   "cell_type": "code",
   "execution_count": 11,
   "metadata": {},
   "outputs": [],
   "source": [
    "frametimes = np.arange(nib_sart.header.get_data_shape()[-1]) * nib_sart.header.get_zooms()[-1] # nscans * TR"
   ]
  },
  {
   "cell_type": "code",
   "execution_count": 12,
   "metadata": {},
   "outputs": [
    {
     "name": "stdout",
     "output_type": "stream",
     "text": [
      "A 'modulation' column was found in the given events data and is used.\n"
     ]
    }
   ],
   "source": [
    "X = make_first_level_design_matrix(frame_times=frametimes, drift_model=\"polynomial\", \n",
    "                                   events=subj_events, \n",
    "                                   hrf_model=\"SPM\", high_pass=None)"
   ]
  },
  {
   "cell_type": "markdown",
   "metadata": {},
   "source": [
    "## Running the GLM"
   ]
  },
  {
   "cell_type": "code",
   "execution_count": 13,
   "metadata": {},
   "outputs": [
    {
     "name": "stderr",
     "output_type": "stream",
     "text": [
      "/home/john/.local/lib/python3.8/site-packages/nilearn/glm/first_level/first_level.py:63: UserWarning: Mean values of 0 observed.The data have probably been centered.Scaling might not work as expected\n",
      "  warn('Mean values of 0 observed.'\n"
     ]
    }
   ],
   "source": [
    "sart_glm = FirstLevelModel(mask_img=False, minimize_memory=False, standardize=True)\n",
    "sart_glm = sart_glm.fit(sart_nii, design_matrices=X)"
   ]
  },
  {
   "cell_type": "markdown",
   "metadata": {},
   "source": [
    "## Contrasts"
   ]
  },
  {
   "cell_type": "code",
   "execution_count": 14,
   "metadata": {},
   "outputs": [],
   "source": [
    "contrast_matrix = np.eye(X.shape[1])\n",
    "basic_contrasts = dict([(column, contrast_matrix[i])\n",
    "                        for i, column in enumerate(X.columns)])"
   ]
  },
  {
   "cell_type": "code",
   "execution_count": 15,
   "metadata": {},
   "outputs": [
    {
     "data": {
      "text/plain": [
       "{'go': array([1., 0., 0., 0.]),\n",
       " 'nogo': array([0., 1., 0., 0.]),\n",
       " 'drift_1': array([0., 0., 1., 0.]),\n",
       " 'constant': array([0., 0., 0., 1.])}"
      ]
     },
     "execution_count": 15,
     "metadata": {},
     "output_type": "execute_result"
    }
   ],
   "source": [
    "basic_contrasts"
   ]
  },
  {
   "cell_type": "code",
   "execution_count": 16,
   "metadata": {},
   "outputs": [],
   "source": [
    "sart_zmap = sart_glm.compute_contrast(basic_contrasts[\"nogo\"] - basic_contrasts[\"go\"], \n",
    "                                      output_type=\"z_score\")"
   ]
  },
  {
   "cell_type": "code",
   "execution_count": 17,
   "metadata": {},
   "outputs": [
    {
     "data": {
      "text/plain": [
       "(91, 109, 91)"
      ]
     },
     "execution_count": 17,
     "metadata": {},
     "output_type": "execute_result"
    }
   ],
   "source": [
    "sart_zmap.shape"
   ]
  },
  {
   "cell_type": "markdown",
   "metadata": {},
   "source": [
    "## Saving Results"
   ]
  },
  {
   "cell_type": "code",
   "execution_count": 18,
   "metadata": {},
   "outputs": [
    {
     "name": "stdout",
     "output_type": "stream",
     "text": [
      "[Errno 17] File exists: '/mnt/d/doctoral_thesis/Rest/2357ZL/spm'\n"
     ]
    }
   ],
   "source": [
    "spm_dir=f\"/mnt/d/doctoral_thesis/Rest/{subj}/spm\"\n",
    "try:\n",
    "    os.mkdir(spm_dir)\n",
    "except OSError as error:\n",
    "    print(error)"
   ]
  },
  {
   "cell_type": "code",
   "execution_count": 19,
   "metadata": {},
   "outputs": [],
   "source": [
    "# save imaging results\n",
    "nib.save(sart_zmap, os.path.join(spm_dir, \"SART_nogo-go_zmap.nii.gz\"))"
   ]
  },
  {
   "cell_type": "code",
   "execution_count": 20,
   "metadata": {},
   "outputs": [],
   "source": [
    "# save design data\n",
    "X.to_csv(os.path.join(spm_dir, \"SART_design.csv\"), header=True, index=False)\n",
    "np.save(os.path.join(spm_dir, \"SART_params.npy\"), sart_glm.get_params())"
   ]
  },
  {
   "cell_type": "markdown",
   "metadata": {},
   "source": [
    "# Connectome Test"
   ]
  },
  {
   "cell_type": "code",
   "execution_count": 21,
   "metadata": {},
   "outputs": [
    {
     "data": {
      "text/plain": [
       "<module 'roi_tseries' from '/mnt/c/Users/John/OneDrive - University of Toronto/Labs/Farb Lab/Dissertation/scripts/roi_tseries.py'>"
      ]
     },
     "execution_count": 21,
     "metadata": {},
     "output_type": "execute_result"
    }
   ],
   "source": [
    "reload(roits)"
   ]
  },
  {
   "cell_type": "code",
   "execution_count": 22,
   "metadata": {},
   "outputs": [
    {
     "name": "stdout",
     "output_type": "stream",
     "text": [
      "0: roi #165\n",
      "1: roi #177\n",
      "2: roi #178\n",
      "3: roi #211\n",
      "4: roi #212\n",
      "5: roi #213\n",
      "6: roi #214\n",
      "7: roi #215\n",
      "8: roi #216\n",
      "9: roi #217\n",
      "10: roi #218\n",
      "11: roi #219\n",
      "12: roi #220\n",
      "13: roi #221\n",
      "14: roi #222\n",
      "15: roi #223\n",
      "16: roi #224\n",
      "17: roi #225\n",
      "18: roi #226\n",
      "19: roi #227\n",
      "20: roi #228\n",
      "21: roi #229\n",
      "22: roi #230\n",
      "23: roi #231\n",
      "24: roi #232\n",
      "25: roi #233\n",
      "26: roi #234\n",
      "27: roi #235\n",
      "28: roi #236\n",
      "29: roi #237\n",
      "30: roi #238\n",
      "31: roi #239\n",
      "32: roi #240\n",
      "33: roi #241\n",
      "34: roi #242\n",
      "35: roi #243\n",
      "36: roi #244\n",
      "37: roi #245\n",
      "38: roi #246\n",
      "39: roi #105\n",
      "40: roi #106\n",
      "41: roi #108\n",
      "42: roi #112\n",
      "43: roi #113\n",
      "44: roi #114\n",
      "45: roi #119\n",
      "46: roi #120\n",
      "47: roi #135\n",
      "48: roi #136\n",
      "49: roi #151\n",
      "50: roi #152\n",
      "51: roi #182\n",
      "52: roi #189\n",
      "53: roi #190\n",
      "54: roi #191\n",
      "55: roi #192\n",
      "56: roi #193\n",
      "57: roi #194\n",
      "58: roi #195\n",
      "59: roi #196\n",
      "60: roi #197\n",
      "61: roi #198\n",
      "62: roi #199\n",
      "63: roi #200\n",
      "64: roi #202\n",
      "65: roi #203\n",
      "66: roi #204\n",
      "67: roi #205\n",
      "68: roi #206\n",
      "69: roi #207\n",
      "70: roi #208\n",
      "71: roi #209\n",
      "72: roi #210\n",
      "73: roi #9\n",
      "74: roi #10\n",
      "75: roi #53\n",
      "76: roi #54\n",
      "77: roi #57\n",
      "78: roi #58\n",
      "79: roi #59\n",
      "80: roi #60\n",
      "81: roi #66\n",
      "82: roi #67\n",
      "83: roi #68\n",
      "84: roi #71\n",
      "85: roi #72\n",
      "86: roi #73\n",
      "87: roi #74\n",
      "88: roi #75\n",
      "89: roi #76\n",
      "90: roi #131\n",
      "91: roi #132\n",
      "92: roi #145\n",
      "93: roi #146\n",
      "94: roi #149\n",
      "95: roi #155\n",
      "96: roi #156\n",
      "97: roi #157\n",
      "98: roi #158\n",
      "99: roi #160\n",
      "100: roi #161\n",
      "101: roi #162\n",
      "102: roi #163\n",
      "103: roi #164\n",
      "104: roi #171\n",
      "105: roi #172\n",
      "106: roi #7\n",
      "107: roi #8\n",
      "108: roi #25\n",
      "109: roi #26\n",
      "110: roi #30\n",
      "111: roi #55\n",
      "112: roi #56\n",
      "113: roi #63\n",
      "114: roi #64\n",
      "115: roi #85\n",
      "116: roi #86\n",
      "117: roi #91\n",
      "118: roi #92\n",
      "119: roi #97\n",
      "120: roi #98\n",
      "121: roi #107\n",
      "122: roi #125\n",
      "123: roi #126\n",
      "124: roi #127\n",
      "125: roi #128\n",
      "126: roi #129\n",
      "127: roi #130\n",
      "128: roi #133\n",
      "129: roi #134\n",
      "130: roi #139\n",
      "131: roi #140\n",
      "132: roi #143\n",
      "133: roi #150\n",
      "134: roi #159\n",
      "135: roi #201\n",
      "136: roi #2\n",
      "137: roi #15\n",
      "138: roi #37\n",
      "139: roi #38\n",
      "140: roi #39\n",
      "141: roi #40\n",
      "142: roi #61\n",
      "143: roi #62\n",
      "144: roi #65\n",
      "145: roi #123\n",
      "146: roi #124\n",
      "147: roi #167\n",
      "148: roi #168\n",
      "149: roi #169\n",
      "150: roi #170\n",
      "151: roi #173\n",
      "152: roi #174\n",
      "153: roi #180\n",
      "154: roi #183\n",
      "155: roi #184\n",
      "156: roi #185\n",
      "157: roi #186\n",
      "158: roi #27\n",
      "159: roi #45\n",
      "160: roi #47\n",
      "161: roi #48\n",
      "162: roi #49\n",
      "163: roi #50\n",
      "164: roi #69\n",
      "165: roi #70\n",
      "166: roi #77\n",
      "167: roi #78\n",
      "168: roi #89\n",
      "169: roi #90\n",
      "170: roi #93\n",
      "171: roi #94\n",
      "172: roi #96\n",
      "173: roi #101\n",
      "174: roi #102\n",
      "175: roi #103\n",
      "176: roi #104\n",
      "177: roi #109\n",
      "178: roi #110\n",
      "179: roi #111\n",
      "180: roi #115\n",
      "181: roi #116\n",
      "182: roi #117\n",
      "183: roi #118\n",
      "184: roi #1\n",
      "185: roi #4\n",
      "186: roi #12\n",
      "187: roi #16\n",
      "188: roi #17\n",
      "189: roi #18\n",
      "190: roi #19\n",
      "191: roi #20\n",
      "192: roi #21\n",
      "193: roi #22\n",
      "194: roi #24\n",
      "195: roi #28\n",
      "196: roi #29\n",
      "197: roi #31\n",
      "198: roi #32\n",
      "199: roi #36\n",
      "200: roi #46\n",
      "201: roi #82\n",
      "202: roi #99\n",
      "203: roi #100\n",
      "204: roi #137\n",
      "205: roi #138\n",
      "206: roi #142\n",
      "207: roi #147\n",
      "208: roi #148\n",
      "209: roi #166\n",
      "210: roi #3\n",
      "211: roi #5\n",
      "212: roi #6\n",
      "213: roi #11\n",
      "214: roi #13\n",
      "215: roi #14\n",
      "216: roi #23\n",
      "217: roi #33\n",
      "218: roi #34\n",
      "219: roi #35\n",
      "220: roi #41\n",
      "221: roi #42\n",
      "222: roi #43\n",
      "223: roi #44\n",
      "224: roi #51\n",
      "225: roi #52\n",
      "226: roi #79\n",
      "227: roi #80\n",
      "228: roi #81\n",
      "229: roi #83\n",
      "230: roi #84\n",
      "231: roi #87\n",
      "232: roi #88\n",
      "233: roi #95\n",
      "234: roi #121\n",
      "235: roi #122\n",
      "236: roi #141\n",
      "237: roi #144\n",
      "238: roi #153\n",
      "239: roi #154\n",
      "240: roi #175\n",
      "241: roi #176\n",
      "242: roi #179\n",
      "243: roi #181\n",
      "244: roi #187\n",
      "245: roi #188\n"
     ]
    }
   ],
   "source": [
    "tmp = roits.atlas_tseries(\n",
    "        nii_path=f\"/mnt/d/doctoral_thesis/Rest/{subj}/func/s_scrub_nuis_nl_m_t_func.nii.gz\",\n",
    "        spm=os.path.join(spm_dir, \"SART_nogo-go_zmap.nii.gz\"),\n",
    "        atlas=\"/mnt/d/doctoral_thesis/atlases/brainnetome/BN_Atlas_246_2mm.nii.gz\",\n",
    "        atlas_data=\"/mnt/d/doctoral_thesis/atlases/brainnetome/subregion_func_network_simplified.csv\",\n",
    "        output=f\"/mnt/d/doctoral_thesis/Rest/{subj}/sliding_timewindows/roi_tcourses.npy\"\n",
    "        )"
   ]
  }
 ],
 "metadata": {
  "kernelspec": {
   "display_name": "Python 3.8.10 64-bit",
   "language": "python",
   "name": "python3"
  },
  "language_info": {
   "codemirror_mode": {
    "name": "ipython",
    "version": 3
   },
   "file_extension": ".py",
   "mimetype": "text/x-python",
   "name": "python",
   "nbconvert_exporter": "python",
   "pygments_lexer": "ipython3",
   "version": "3.8.10"
  },
  "orig_nbformat": 4,
  "vscode": {
   "interpreter": {
    "hash": "31f2aee4e71d21fbe5cf8b01ff0e069b9275f58929596ceb00d14d90e3e16cd6"
   }
  }
 },
 "nbformat": 4,
 "nbformat_minor": 2
}
